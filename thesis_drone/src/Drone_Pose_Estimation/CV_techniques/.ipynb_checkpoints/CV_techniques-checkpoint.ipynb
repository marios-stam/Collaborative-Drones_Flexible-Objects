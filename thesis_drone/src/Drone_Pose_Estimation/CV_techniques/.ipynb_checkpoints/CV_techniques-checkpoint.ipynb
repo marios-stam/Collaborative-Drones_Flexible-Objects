{
 "cells": [
  {
   "cell_type": "code",
   "execution_count": 1,
   "metadata": {},
   "outputs": [],
   "source": [
    "import cv2\n",
    "import numpy as np\n",
    "import os"
   ]
  },
  {
   "cell_type": "code",
   "execution_count": 4,
   "metadata": {},
   "outputs": [
    {
     "name": "stdout",
     "output_type": "stream",
     "text": [
      "/home/marios/catkin_ws/src/thesis_drone/src/Drone_Pose_Estimation/CV_techniques\n",
      "/home/marios/.local/lib/python3.8/site-packages/cv2/cv2.cpython-38-x86_64-linux-gnu.so\n"
     ]
    }
   ],
   "source": [
    "print(os.getcwd())\n",
    "print(cv2.__file__)\n",
    "img = cv2.imread('/home/marios/catkin_ws/src/thesis_drone/src/Drone_Pose_Estimation/test_photos/CV_1.jpg')\n",
    "gray = cv2.cvtColor(img,cv2.COLOR_BGR2GRAY)"
   ]
  },
  {
   "cell_type": "code",
   "execution_count": null,
   "metadata": {},
   "outputs": [],
   "source": [
    "edges = cv2.Canny(gray,threshold1=10,threshold2=200,apertureSize = 3)\n",
    "# cv2.imshow(\"edges\",edges)\n",
    "# cv2.waitKey(0)\n",
    "\n",
    "lines = cv2.HoughLines(edges,rho=1,theta=np.pi/180,threshold=1)\n",
    "print(lines[0])\n",
    "for rho,theta in lines[0]:\n",
    "    a = np.cos(theta)\n",
    "    b = np.sin(theta)\n",
    "    x0 = a*rho\n",
    "    y0 = b*rho\n",
    "    x1 = int(x0 + 1000*(-b))\n",
    "    y1 = int(y0 + 1000*(a))\n",
    "    x2 = int(x0 - 1000*(-b))\n",
    "    y2 = int(y0 - 1000*(a))\n",
    "\n",
    "    cv2.line(img,(x1,y1),(x2,y2),(0,0,255),2)\n",
    "\n",
    "cv2.imshow(\"img\",img)\n"
   ]
  }
 ],
 "metadata": {
  "interpreter": {
   "hash": "916dbcbb3f70747c44a77c7bcd40155683ae19c65e1c03b4aa3499c5328201f1"
  },
  "kernelspec": {
   "display_name": "Python 3 (ipykernel)",
   "language": "python",
   "name": "python3"
  },
  "language_info": {
   "codemirror_mode": {
    "name": "ipython",
    "version": 3
   },
   "file_extension": ".py",
   "mimetype": "text/x-python",
   "name": "python",
   "nbconvert_exporter": "python",
   "pygments_lexer": "ipython3",
   "version": "3.8.10"
  }
 },
 "nbformat": 4,
 "nbformat_minor": 2
}
